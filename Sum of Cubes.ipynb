{
 "cells": [
  {
   "cell_type": "markdown",
   "metadata": {},
   "source": [
    "# Sum of Cubes"
   ]
  },
  {
   "cell_type": "markdown",
   "metadata": {},
   "source": [
    "In this notebook, we'll derive a series of mathematical identities involving sums, and finally look at an interesting relationship involving sums and cubes.\n",
    "\n",
    "## Sum of the first n positive integers:\n",
    "\n",
    "..."
   ]
  },
  {
   "cell_type": "markdown",
   "metadata": {},
   "source": [
    "## The square of the sum is the sum of the cubes:\n",
    "\n",
    "..."
   ]
  },
  {
   "cell_type": "markdown",
   "metadata": {},
   "source": [
    "## An interesting relationship\n",
    "\n",
    "In this section, we'll explore a surprising relationship between the divisors of a number $n$, the count of divisors each of _those_ divisors have, and the cubes of those counts.\n",
    "\n",
    "For example, if $n = 6$: the divisors of 6 are: $1, 2, 3, 6$\n",
    "\n",
    "Now, we count how many divisors each of the numbers above have:\n",
    "\n",
    "Number of divisors of 1: $1$\n",
    "\n",
    "Number of divisors of 2: $2$\n",
    "\n",
    "Number of divisors of 3: $2$\n",
    "\n",
    "Number of divisors of 6: $4$\n",
    "\n",
    "The sum of these numbers is $1+2+2+4=9$\n",
    "\n",
    "For the next step, take the numbers we found in the previous step and cube them:\n",
    "\n",
    "$1^3 = 1$\n",
    "\n",
    "$2^3 = 8$\n",
    "\n",
    "$2^3 = 8$\n",
    "\n",
    "$4^3 = 64$\n",
    "\n",
    "The sum of these numbers is $1+8+8+64 = 81$\n",
    "\n",
    "Do you notice anything interesting about the two sums $9$ and $81$? Does this pattern hold for any number? You can test it out yourself by running the cell below:"
   ]
  },
  {
   "cell_type": "markdown",
   "metadata": {},
   "source": [
    "### Run the cell below to generate a table for any integer n:"
   ]
  },
  {
   "cell_type": "code",
   "execution_count": 24,
   "metadata": {},
   "outputs": [
    {
     "name": "stdout",
     "output_type": "stream",
     "text": [
      "Enter an integer n: 45\n",
      "\n",
      "Table for n = 45:\n",
      "Divisors\tNumber of divisors\tCubes of column 2\n",
      "_________________________________________________________\n",
      "1\t\t\t1\t\t\t1\n",
      "3\t\t\t2\t\t\t8\n",
      "5\t\t\t2\t\t\t8\n",
      "9\t\t\t3\t\t\t27\n",
      "15\t\t\t4\t\t\t64\n",
      "45\t\t\t6\t\t\t216\n",
      "_________________________________________________________\n",
      "Sum:\t\t\t18\t\t\t324\n"
     ]
    }
   ],
   "source": [
    "#Calculate divisors, number of divisors for each divisor and the cube of that number, for an integer n\n",
    "\n",
    "def sum_of_cubes(n):\n",
    "\n",
    "    table = []\n",
    "\n",
    "    #Finding all divisors of n:\n",
    "    for num in range(1,n+1):\n",
    "\n",
    "        if n%num == 0:\n",
    "\n",
    "            table.append([num,0,0])\n",
    "\n",
    "    #Finding the number of divisors for each of the divisors of n (and their sum):\n",
    "    col2_sum = 0\n",
    "\n",
    "    for row in range(0,len(table)):\n",
    "\n",
    "        div_count = 0\n",
    "\n",
    "        for num in range(1, table[row][0] + 1):\n",
    "\n",
    "            if table[row][0]%num == 0:\n",
    "\n",
    "                div_count += 1\n",
    "\n",
    "        table[row][1] = div_count\n",
    "        col2_sum += div_count\n",
    "\n",
    "    #Finding cubes of numbers found above (and their sum):\n",
    "    col3_sum = 0\n",
    "\n",
    "    for row in range(0, len(table)):\n",
    "\n",
    "        table[row][2] = table[row][1]**3\n",
    "        col3_sum += table[row][1]**3    \n",
    "\n",
    "    #Printing the table:\n",
    "    print()\n",
    "    print(f\"Table for n = {n}:\")\n",
    "    print(\"Divisors\\tNumber of divisors\\tCubes of column 2\")\n",
    "    print(\"_________________________________________________________\")\n",
    "\n",
    "    for row in range(len(table)):\n",
    "\n",
    "        print(f\"{table[row][0]}\\t\\t\\t{table[row][1]}\\t\\t\\t{table[row][2]}\")\n",
    "\n",
    "    print(\"_________________________________________________________\")\n",
    "    print(f\"Sum:\\t\\t\\t{col2_sum}\\t\\t\\t{col3_sum}\")\n",
    "    \n",
    " #Getting a number n from the user:\n",
    "n = None\n",
    "\n",
    "while n == None:\n",
    "    try:\n",
    "        n = int(input(\"Enter an integer n: \"))\n",
    "\n",
    "    except:\n",
    "        n = None\n",
    "        print(\"Please try again.\")\n",
    "\n",
    "#Calling the function:\n",
    "sum_of_cubes(n)"
   ]
  },
  {
   "cell_type": "markdown",
   "metadata": {},
   "source": [
    "### Proof\n",
    "\n",
    "You'll notice that the sum of the third column is always the square of the sum of the second column, no matter what you choose $n$ to be! This isn't just a coincidence; we can algebraically rearrange these sums to prove this relationship for $n = 72$. The table for $n = 72$ is as follows:"
   ]
  },
  {
   "cell_type": "code",
   "execution_count": 25,
   "metadata": {},
   "outputs": [
    {
     "name": "stdout",
     "output_type": "stream",
     "text": [
      "\n",
      "Table for n = 72:\n",
      "Divisors\tNumber of divisors\tCubes of column 2\n",
      "_________________________________________________________\n",
      "1\t\t\t1\t\t\t1\n",
      "2\t\t\t2\t\t\t8\n",
      "3\t\t\t2\t\t\t8\n",
      "4\t\t\t3\t\t\t27\n",
      "6\t\t\t4\t\t\t64\n",
      "8\t\t\t4\t\t\t64\n",
      "9\t\t\t3\t\t\t27\n",
      "12\t\t\t6\t\t\t216\n",
      "18\t\t\t6\t\t\t216\n",
      "24\t\t\t8\t\t\t512\n",
      "36\t\t\t9\t\t\t729\n",
      "72\t\t\t12\t\t\t1728\n",
      "_________________________________________________________\n",
      "Sum:\t\t\t60\t\t\t3600\n"
     ]
    }
   ],
   "source": [
    "sum_of_cubes(72)"
   ]
  },
  {
   "cell_type": "markdown",
   "metadata": {},
   "source": [
    "We'll start by representing the sum of cubes from the table above algebraically:\n",
    "\n",
    "\\begin{equation*}\n",
    "1^3 + 2^3 + 3^3 + 4^3 + 2^3 + 4^3 + 6^3 + 8^3 + 3^3 + 6^3 + 9^3 + 12^3\n",
    "\\end{equation*}\n",
    "\n",
    "Next, we'll write each divisor as the product of its factors:\n",
    "\n",
    "\\begin{equation*}\n",
    "= (1^3)(1^3) + (2^3)(1^3) + (3^3)(1^3) + (4^3)(1^3) + (2^3)(2^3) + (2^3)(2^3) + (3^3)(2^3) + (4^3)(2^3) + (1^3)(3^3) + (2^3)(3^3) + (3^3)(3^3) + (4^3)(3^3)\n",
    "\\end{equation*}\n",
    "\n",
    "Factoring the above expression:\n",
    "\n",
    "\\begin{equation*}\n",
    "= (1^3+2^3+3^3+4^3)(1^3+2^3+3^3)\n",
    "\\end{equation*}\n",
    "\n",
    "Using the identity that we derived earlier in this notebook, that the sum of the cubes is the square of the sum:\n",
    "\n",
    "\\begin{equation*}\n",
    "= (1+2+3+4)^2(1+2+3)^2\n",
    "\\end{equation*}\n",
    "\n",
    "Moving the squared sign:\n",
    "\n",
    "\\begin{equation*}\n",
    "= [(1+2+3+4)(1+2+3)]^2\n",
    "\\end{equation*}\n",
    "\n",
    "Now we can expand the two sets of brackets:\n",
    "\n",
    "\\begin{equation*}\n",
    "= (1+2+3+4+2+4+6+8+3+6+9+12)^2\n",
    "\\end{equation*}\n"
   ]
  },
  {
   "cell_type": "markdown",
   "metadata": {},
   "source": [
    "These numbers should look familiar from the table above. We have now shown that the sum of the third column (where we started) is equal to the square of the sum of the second column!"
   ]
  },
  {
   "cell_type": "markdown",
   "metadata": {},
   "source": [
    "#### Sources:\n",
    "\n",
    "Problems for Senior High School Math, by Peter D. Taylor\n",
    "\n",
    "https://brilliant.org/wiki/sum-of-n-n2-or-n3/"
   ]
  }
 ],
 "metadata": {
  "kernelspec": {
   "display_name": "Python 3",
   "language": "python",
   "name": "python3"
  },
  "language_info": {
   "codemirror_mode": {
    "name": "ipython",
    "version": 3
   },
   "file_extension": ".py",
   "mimetype": "text/x-python",
   "name": "python",
   "nbconvert_exporter": "python",
   "pygments_lexer": "ipython3",
   "version": "3.6.5"
  }
 },
 "nbformat": 4,
 "nbformat_minor": 2
}
